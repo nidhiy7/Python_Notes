{
 "cells": [
  {
   "cell_type": "markdown",
   "id": "c11d3d1f",
   "metadata": {},
   "source": [
    "### If-else Statement"
   ]
  },
  {
   "cell_type": "code",
   "execution_count": 1,
   "id": "af59e97a",
   "metadata": {},
   "outputs": [
    {
     "name": "stdout",
     "output_type": "stream",
     "text": [
      "Enter your Emailnidhiyadav@gmail.com\n",
      "Enter your Password67989\n",
      "Password Incorrect\n",
      "Again Enter your Password9864\n",
      "Still incorrect\n"
     ]
    }
   ],
   "source": [
    " #correct email- nidhiyadav@gmail.com\n",
    " #password - 1234\n",
    "\n",
    "email = input(\"Enter your Email\")\n",
    "if '@' in email:\n",
    "    password = input(\"Enter your Password\")\n",
    "\n",
    "    if email == \"nidhiyadav@gmail.com\" and password == \"1234\":\n",
    "        print(\"Welcome\")\n",
    "    elif email == \"nidhiyadav@gmail.com\" and password != \"1234\":\n",
    "        print(\"Password Incorrect\")\n",
    "        password = input(\"Again Enter your Password\")\n",
    "        if password == \"1234\":\n",
    "            print(\"Finally correct\")\n",
    "        else:\n",
    "            print(\"Still incorrect\")\n",
    "    else:\n",
    "        print(\"Incorrect credentials\")\n",
    "else:\n",
    "    print(\"Now,Enter the correct Email\")"
   ]
  },
  {
   "cell_type": "markdown",
   "id": "cd1a430a",
   "metadata": {},
   "source": [
    "## Indentation"
   ]
  },
  {
   "cell_type": "code",
   "execution_count": 2,
   "id": "edcbb57b",
   "metadata": {},
   "outputs": [
    {
     "name": "stdout",
     "output_type": "stream",
     "text": [
      "line 1\n",
      "line2\n",
      "line 5\n"
     ]
    }
   ],
   "source": [
    "name=\"xyz\"\n",
    "if name == \"xyz\":\n",
    "    print('line 1')\n",
    "    print('line2')\n",
    "    if 5 == 5:\n",
    "        print('line 5')\n",
    "else:\n",
    "    print('line3')"
   ]
  },
  {
   "cell_type": "code",
   "execution_count": null,
   "id": "f08a3e6f",
   "metadata": {},
   "outputs": [],
   "source": []
  }
 ],
 "metadata": {
  "kernelspec": {
   "display_name": "Python 3 (ipykernel)",
   "language": "python",
   "name": "python3"
  },
  "language_info": {
   "codemirror_mode": {
    "name": "ipython",
    "version": 3
   },
   "file_extension": ".py",
   "mimetype": "text/x-python",
   "name": "python",
   "nbconvert_exporter": "python",
   "pygments_lexer": "ipython3",
   "version": "3.9.13"
  }
 },
 "nbformat": 4,
 "nbformat_minor": 5
}
